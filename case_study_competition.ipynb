{
  "nbformat": 4,
  "nbformat_minor": 0,
  "metadata": {
    "colab": {
      "name": "case study competition.ipynb",
      "provenance": [],
      "collapsed_sections": [],
      "authorship_tag": "ABX9TyNvSVfanG64m2HOHL3WS0a6",
      "include_colab_link": true
    },
    "kernelspec": {
      "name": "python3",
      "display_name": "Python 3"
    },
    "language_info": {
      "name": "python"
    }
  },
  "cells": [
    {
      "cell_type": "markdown",
      "metadata": {
        "id": "view-in-github",
        "colab_type": "text"
      },
      "source": [
        "<a href=\"https://colab.research.google.com/github/AmiAnurag/accs-case-study/blob/main/case_study_competition.ipynb\" target=\"_parent\"><img src=\"https://colab.research.google.com/assets/colab-badge.svg\" alt=\"Open In Colab\"/></a>"
      ]
    },
    {
      "cell_type": "code",
      "metadata": {
        "id": "Rp_HtOfG3rnG"
      },
      "source": [
        "import pandas as pd\n",
        "import datetime as dt\n",
        "from matplotlib import pyplot as plt\n",
        "import numpy as np"
      ],
      "execution_count": null,
      "outputs": []
    },
    {
      "cell_type": "code",
      "metadata": {
        "colab": {
          "base_uri": "https://localhost:8080/",
          "height": 205
        },
        "id": "uI0UCXQj4Zd9",
        "outputId": "dccb734a-ee34-4817-d90c-8ebf93f8ce14"
      },
      "source": [
        "df=pd.read_excel('/content/ACCS Case Study Data.xlsx')\n",
        "df.head()"
      ],
      "execution_count": null,
      "outputs": [
        {
          "output_type": "execute_result",
          "data": {
            "text/html": [
              "<div>\n",
              "<style scoped>\n",
              "    .dataframe tbody tr th:only-of-type {\n",
              "        vertical-align: middle;\n",
              "    }\n",
              "\n",
              "    .dataframe tbody tr th {\n",
              "        vertical-align: top;\n",
              "    }\n",
              "\n",
              "    .dataframe thead th {\n",
              "        text-align: right;\n",
              "    }\n",
              "</style>\n",
              "<table border=\"1\" class=\"dataframe\">\n",
              "  <thead>\n",
              "    <tr style=\"text-align: right;\">\n",
              "      <th></th>\n",
              "      <th>Order Date</th>\n",
              "      <th>Ship Date</th>\n",
              "      <th>Customer Name</th>\n",
              "      <th>State</th>\n",
              "      <th>Category</th>\n",
              "      <th>Segment</th>\n",
              "      <th>Sub-Category</th>\n",
              "      <th>Sales</th>\n",
              "      <th>Quantity</th>\n",
              "      <th>Discount</th>\n",
              "      <th>Profit</th>\n",
              "    </tr>\n",
              "  </thead>\n",
              "  <tbody>\n",
              "    <tr>\n",
              "      <th>0</th>\n",
              "      <td>2012-01-01</td>\n",
              "      <td>2012-01-06</td>\n",
              "      <td>Toby Braunhardt</td>\n",
              "      <td>Rajasthan</td>\n",
              "      <td>Office Supplies</td>\n",
              "      <td>Consumer</td>\n",
              "      <td>Storage</td>\n",
              "      <td>408.300</td>\n",
              "      <td>2</td>\n",
              "      <td>0.0</td>\n",
              "      <td>106.140</td>\n",
              "    </tr>\n",
              "    <tr>\n",
              "      <th>1</th>\n",
              "      <td>2012-01-01</td>\n",
              "      <td>2012-01-08</td>\n",
              "      <td>Joseph Holt</td>\n",
              "      <td>Uttar Pradesh</td>\n",
              "      <td>Office Supplies</td>\n",
              "      <td>Consumer</td>\n",
              "      <td>Supplies</td>\n",
              "      <td>120.366</td>\n",
              "      <td>3</td>\n",
              "      <td>0.1</td>\n",
              "      <td>36.036</td>\n",
              "    </tr>\n",
              "    <tr>\n",
              "      <th>2</th>\n",
              "      <td>2012-01-01</td>\n",
              "      <td>2012-01-05</td>\n",
              "      <td>Annie Thurman</td>\n",
              "      <td>Haryana</td>\n",
              "      <td>Office Supplies</td>\n",
              "      <td>Consumer</td>\n",
              "      <td>Storage</td>\n",
              "      <td>66.120</td>\n",
              "      <td>4</td>\n",
              "      <td>0.0</td>\n",
              "      <td>29.640</td>\n",
              "    </tr>\n",
              "    <tr>\n",
              "      <th>3</th>\n",
              "      <td>2012-01-01</td>\n",
              "      <td>2012-01-05</td>\n",
              "      <td>Eugene Moren</td>\n",
              "      <td>Punjab</td>\n",
              "      <td>Office Supplies</td>\n",
              "      <td>Home Office</td>\n",
              "      <td>Paper</td>\n",
              "      <td>44.865</td>\n",
              "      <td>3</td>\n",
              "      <td>0.5</td>\n",
              "      <td>-26.055</td>\n",
              "    </tr>\n",
              "    <tr>\n",
              "      <th>4</th>\n",
              "      <td>2012-01-01</td>\n",
              "      <td>2012-01-08</td>\n",
              "      <td>Joseph Holt</td>\n",
              "      <td>Uttar Pradesh</td>\n",
              "      <td>Furniture</td>\n",
              "      <td>Consumer</td>\n",
              "      <td>Furnishings</td>\n",
              "      <td>113.670</td>\n",
              "      <td>5</td>\n",
              "      <td>0.1</td>\n",
              "      <td>37.770</td>\n",
              "    </tr>\n",
              "  </tbody>\n",
              "</table>\n",
              "</div>"
            ],
            "text/plain": [
              "  Order Date  Ship Date    Customer Name  ... Quantity Discount   Profit\n",
              "0 2012-01-01 2012-01-06  Toby Braunhardt  ...        2      0.0  106.140\n",
              "1 2012-01-01 2012-01-08      Joseph Holt  ...        3      0.1   36.036\n",
              "2 2012-01-01 2012-01-05    Annie Thurman  ...        4      0.0   29.640\n",
              "3 2012-01-01 2012-01-05     Eugene Moren  ...        3      0.5  -26.055\n",
              "4 2012-01-01 2012-01-08      Joseph Holt  ...        5      0.1   37.770\n",
              "\n",
              "[5 rows x 11 columns]"
            ]
          },
          "metadata": {},
          "execution_count": 3
        }
      ]
    },
    {
      "cell_type": "code",
      "metadata": {
        "colab": {
          "base_uri": "https://localhost:8080/",
          "height": 205
        },
        "id": "zupKFtgR4ljD",
        "outputId": "108795e9-cba8-4ec0-9c35-430ebf754ddf"
      },
      "source": [
        "df['Order Date']=pd.to_datetime(df['Order Date'])\n",
        "df['Ship Date']=pd.to_datetime(df['Ship Date'])\n",
        "df['Total']=df['Sales']*df['Quantity']\n",
        "df.head()"
      ],
      "execution_count": null,
      "outputs": [
        {
          "output_type": "execute_result",
          "data": {
            "text/html": [
              "<div>\n",
              "<style scoped>\n",
              "    .dataframe tbody tr th:only-of-type {\n",
              "        vertical-align: middle;\n",
              "    }\n",
              "\n",
              "    .dataframe tbody tr th {\n",
              "        vertical-align: top;\n",
              "    }\n",
              "\n",
              "    .dataframe thead th {\n",
              "        text-align: right;\n",
              "    }\n",
              "</style>\n",
              "<table border=\"1\" class=\"dataframe\">\n",
              "  <thead>\n",
              "    <tr style=\"text-align: right;\">\n",
              "      <th></th>\n",
              "      <th>Order Date</th>\n",
              "      <th>Ship Date</th>\n",
              "      <th>Customer Name</th>\n",
              "      <th>State</th>\n",
              "      <th>Category</th>\n",
              "      <th>Segment</th>\n",
              "      <th>Sub-Category</th>\n",
              "      <th>Sales</th>\n",
              "      <th>Quantity</th>\n",
              "      <th>Discount</th>\n",
              "      <th>Profit</th>\n",
              "      <th>Total</th>\n",
              "    </tr>\n",
              "  </thead>\n",
              "  <tbody>\n",
              "    <tr>\n",
              "      <th>0</th>\n",
              "      <td>2012-01-01</td>\n",
              "      <td>2012-01-06</td>\n",
              "      <td>Toby Braunhardt</td>\n",
              "      <td>Rajasthan</td>\n",
              "      <td>Office Supplies</td>\n",
              "      <td>Consumer</td>\n",
              "      <td>Storage</td>\n",
              "      <td>408.300</td>\n",
              "      <td>2</td>\n",
              "      <td>0.0</td>\n",
              "      <td>106.140</td>\n",
              "      <td>816.600</td>\n",
              "    </tr>\n",
              "    <tr>\n",
              "      <th>1</th>\n",
              "      <td>2012-01-01</td>\n",
              "      <td>2012-01-08</td>\n",
              "      <td>Joseph Holt</td>\n",
              "      <td>Uttar Pradesh</td>\n",
              "      <td>Office Supplies</td>\n",
              "      <td>Consumer</td>\n",
              "      <td>Supplies</td>\n",
              "      <td>120.366</td>\n",
              "      <td>3</td>\n",
              "      <td>0.1</td>\n",
              "      <td>36.036</td>\n",
              "      <td>361.098</td>\n",
              "    </tr>\n",
              "    <tr>\n",
              "      <th>2</th>\n",
              "      <td>2012-01-01</td>\n",
              "      <td>2012-01-05</td>\n",
              "      <td>Annie Thurman</td>\n",
              "      <td>Haryana</td>\n",
              "      <td>Office Supplies</td>\n",
              "      <td>Consumer</td>\n",
              "      <td>Storage</td>\n",
              "      <td>66.120</td>\n",
              "      <td>4</td>\n",
              "      <td>0.0</td>\n",
              "      <td>29.640</td>\n",
              "      <td>264.480</td>\n",
              "    </tr>\n",
              "    <tr>\n",
              "      <th>3</th>\n",
              "      <td>2012-01-01</td>\n",
              "      <td>2012-01-05</td>\n",
              "      <td>Eugene Moren</td>\n",
              "      <td>Punjab</td>\n",
              "      <td>Office Supplies</td>\n",
              "      <td>Home Office</td>\n",
              "      <td>Paper</td>\n",
              "      <td>44.865</td>\n",
              "      <td>3</td>\n",
              "      <td>0.5</td>\n",
              "      <td>-26.055</td>\n",
              "      <td>134.595</td>\n",
              "    </tr>\n",
              "    <tr>\n",
              "      <th>4</th>\n",
              "      <td>2012-01-01</td>\n",
              "      <td>2012-01-08</td>\n",
              "      <td>Joseph Holt</td>\n",
              "      <td>Uttar Pradesh</td>\n",
              "      <td>Furniture</td>\n",
              "      <td>Consumer</td>\n",
              "      <td>Furnishings</td>\n",
              "      <td>113.670</td>\n",
              "      <td>5</td>\n",
              "      <td>0.1</td>\n",
              "      <td>37.770</td>\n",
              "      <td>568.350</td>\n",
              "    </tr>\n",
              "  </tbody>\n",
              "</table>\n",
              "</div>"
            ],
            "text/plain": [
              "  Order Date  Ship Date    Customer Name  ... Discount   Profit    Total\n",
              "0 2012-01-01 2012-01-06  Toby Braunhardt  ...      0.0  106.140  816.600\n",
              "1 2012-01-01 2012-01-08      Joseph Holt  ...      0.1   36.036  361.098\n",
              "2 2012-01-01 2012-01-05    Annie Thurman  ...      0.0   29.640  264.480\n",
              "3 2012-01-01 2012-01-05     Eugene Moren  ...      0.5  -26.055  134.595\n",
              "4 2012-01-01 2012-01-08      Joseph Holt  ...      0.1   37.770  568.350\n",
              "\n",
              "[5 rows x 12 columns]"
            ]
          },
          "metadata": {},
          "execution_count": 4
        }
      ]
    },
    {
      "cell_type": "code",
      "metadata": {
        "id": "hEzlGRJq5It9",
        "colab": {
          "base_uri": "https://localhost:8080/",
          "height": 440
        },
        "outputId": "2e14e7f3-3caa-43f6-89ec-781bec881b8e"
      },
      "source": [
        "#recency\n",
        "## Recency\n",
        "# To calculate recency, we need to find out  **when was the customer's most recent purchase.**.\n",
        "recency_df=df.groupby(by='Customer Name',as_index=False)['Order Date'].max()\n",
        "recency_df.columns=['CustomerName','LastPurchaseDate']\n",
        "recent_date=recency_df.LastPurchaseDate.max()\n",
        "print(recent_date)\n",
        "# Calculate recency\n",
        "recency_df['Recency'] = recency_df['LastPurchaseDate'].apply(lambda x: (recent_date - x).days)\n",
        "\n",
        "recency_df\n",
        "# recency_df.head(3)"
      ],
      "execution_count": null,
      "outputs": [
        {
          "output_type": "stream",
          "name": "stdout",
          "text": [
            "2015-12-31 00:00:00\n"
          ]
        },
        {
          "output_type": "execute_result",
          "data": {
            "text/html": [
              "<div>\n",
              "<style scoped>\n",
              "    .dataframe tbody tr th:only-of-type {\n",
              "        vertical-align: middle;\n",
              "    }\n",
              "\n",
              "    .dataframe tbody tr th {\n",
              "        vertical-align: top;\n",
              "    }\n",
              "\n",
              "    .dataframe thead th {\n",
              "        text-align: right;\n",
              "    }\n",
              "</style>\n",
              "<table border=\"1\" class=\"dataframe\">\n",
              "  <thead>\n",
              "    <tr style=\"text-align: right;\">\n",
              "      <th></th>\n",
              "      <th>CustomerName</th>\n",
              "      <th>LastPurchaseDate</th>\n",
              "      <th>Recency</th>\n",
              "    </tr>\n",
              "  </thead>\n",
              "  <tbody>\n",
              "    <tr>\n",
              "      <th>0</th>\n",
              "      <td>Aaron Bergman</td>\n",
              "      <td>2015-12-15</td>\n",
              "      <td>16</td>\n",
              "    </tr>\n",
              "    <tr>\n",
              "      <th>1</th>\n",
              "      <td>Aaron Hawkins</td>\n",
              "      <td>2015-12-19</td>\n",
              "      <td>12</td>\n",
              "    </tr>\n",
              "    <tr>\n",
              "      <th>2</th>\n",
              "      <td>Aaron Smayling</td>\n",
              "      <td>2015-12-08</td>\n",
              "      <td>23</td>\n",
              "    </tr>\n",
              "    <tr>\n",
              "      <th>3</th>\n",
              "      <td>Adam Bellavance</td>\n",
              "      <td>2015-11-26</td>\n",
              "      <td>35</td>\n",
              "    </tr>\n",
              "    <tr>\n",
              "      <th>4</th>\n",
              "      <td>Adam Hart</td>\n",
              "      <td>2015-12-29</td>\n",
              "      <td>2</td>\n",
              "    </tr>\n",
              "    <tr>\n",
              "      <th>...</th>\n",
              "      <td>...</td>\n",
              "      <td>...</td>\n",
              "      <td>...</td>\n",
              "    </tr>\n",
              "    <tr>\n",
              "      <th>791</th>\n",
              "      <td>Xylona Preis</td>\n",
              "      <td>2015-11-18</td>\n",
              "      <td>43</td>\n",
              "    </tr>\n",
              "    <tr>\n",
              "      <th>792</th>\n",
              "      <td>Yana Sorensen</td>\n",
              "      <td>2015-12-27</td>\n",
              "      <td>4</td>\n",
              "    </tr>\n",
              "    <tr>\n",
              "      <th>793</th>\n",
              "      <td>Yoseph Carroll</td>\n",
              "      <td>2015-12-27</td>\n",
              "      <td>4</td>\n",
              "    </tr>\n",
              "    <tr>\n",
              "      <th>794</th>\n",
              "      <td>Zuschuss Carroll</td>\n",
              "      <td>2015-12-28</td>\n",
              "      <td>3</td>\n",
              "    </tr>\n",
              "    <tr>\n",
              "      <th>795</th>\n",
              "      <td>Zuschuss Donatelli</td>\n",
              "      <td>2015-12-30</td>\n",
              "      <td>1</td>\n",
              "    </tr>\n",
              "  </tbody>\n",
              "</table>\n",
              "<p>796 rows × 3 columns</p>\n",
              "</div>"
            ],
            "text/plain": [
              "           CustomerName LastPurchaseDate  Recency\n",
              "0         Aaron Bergman       2015-12-15       16\n",
              "1         Aaron Hawkins       2015-12-19       12\n",
              "2        Aaron Smayling       2015-12-08       23\n",
              "3       Adam Bellavance       2015-11-26       35\n",
              "4             Adam Hart       2015-12-29        2\n",
              "..                  ...              ...      ...\n",
              "791        Xylona Preis       2015-11-18       43\n",
              "792       Yana Sorensen       2015-12-27        4\n",
              "793      Yoseph Carroll       2015-12-27        4\n",
              "794    Zuschuss Carroll       2015-12-28        3\n",
              "795  Zuschuss Donatelli       2015-12-30        1\n",
              "\n",
              "[796 rows x 3 columns]"
            ]
          },
          "metadata": {},
          "execution_count": 5
        }
      ]
    },
    {
      "cell_type": "code",
      "metadata": {
        "colab": {
          "base_uri": "https://localhost:8080/",
          "height": 422
        },
        "id": "AKoldde1uLyC",
        "outputId": "4a08173e-ce5d-4564-9c6f-2e9e49cf4586"
      },
      "source": [
        "#frequency\n",
        "frequency_df=df.drop_duplicates().groupby(by=['Customer Name'],as_index=False)['Order Date'].count()\n",
        "frequency_df.columns=['CustomerName','Frequency']\n",
        "frequency_df"
      ],
      "execution_count": null,
      "outputs": [
        {
          "output_type": "execute_result",
          "data": {
            "text/html": [
              "<div>\n",
              "<style scoped>\n",
              "    .dataframe tbody tr th:only-of-type {\n",
              "        vertical-align: middle;\n",
              "    }\n",
              "\n",
              "    .dataframe tbody tr th {\n",
              "        vertical-align: top;\n",
              "    }\n",
              "\n",
              "    .dataframe thead th {\n",
              "        text-align: right;\n",
              "    }\n",
              "</style>\n",
              "<table border=\"1\" class=\"dataframe\">\n",
              "  <thead>\n",
              "    <tr style=\"text-align: right;\">\n",
              "      <th></th>\n",
              "      <th>CustomerName</th>\n",
              "      <th>Frequency</th>\n",
              "    </tr>\n",
              "  </thead>\n",
              "  <tbody>\n",
              "    <tr>\n",
              "      <th>0</th>\n",
              "      <td>Aaron Bergman</td>\n",
              "      <td>89</td>\n",
              "    </tr>\n",
              "    <tr>\n",
              "      <th>1</th>\n",
              "      <td>Aaron Hawkins</td>\n",
              "      <td>56</td>\n",
              "    </tr>\n",
              "    <tr>\n",
              "      <th>2</th>\n",
              "      <td>Aaron Smayling</td>\n",
              "      <td>60</td>\n",
              "    </tr>\n",
              "    <tr>\n",
              "      <th>3</th>\n",
              "      <td>Adam Bellavance</td>\n",
              "      <td>68</td>\n",
              "    </tr>\n",
              "    <tr>\n",
              "      <th>4</th>\n",
              "      <td>Adam Hart</td>\n",
              "      <td>84</td>\n",
              "    </tr>\n",
              "    <tr>\n",
              "      <th>...</th>\n",
              "      <td>...</td>\n",
              "      <td>...</td>\n",
              "    </tr>\n",
              "    <tr>\n",
              "      <th>791</th>\n",
              "      <td>Xylona Preis</td>\n",
              "      <td>61</td>\n",
              "    </tr>\n",
              "    <tr>\n",
              "      <th>792</th>\n",
              "      <td>Yana Sorensen</td>\n",
              "      <td>62</td>\n",
              "    </tr>\n",
              "    <tr>\n",
              "      <th>793</th>\n",
              "      <td>Yoseph Carroll</td>\n",
              "      <td>56</td>\n",
              "    </tr>\n",
              "    <tr>\n",
              "      <th>794</th>\n",
              "      <td>Zuschuss Carroll</td>\n",
              "      <td>85</td>\n",
              "    </tr>\n",
              "    <tr>\n",
              "      <th>795</th>\n",
              "      <td>Zuschuss Donatelli</td>\n",
              "      <td>54</td>\n",
              "    </tr>\n",
              "  </tbody>\n",
              "</table>\n",
              "<p>796 rows × 2 columns</p>\n",
              "</div>"
            ],
            "text/plain": [
              "           CustomerName  Frequency\n",
              "0         Aaron Bergman         89\n",
              "1         Aaron Hawkins         56\n",
              "2        Aaron Smayling         60\n",
              "3       Adam Bellavance         68\n",
              "4             Adam Hart         84\n",
              "..                  ...        ...\n",
              "791        Xylona Preis         61\n",
              "792       Yana Sorensen         62\n",
              "793      Yoseph Carroll         56\n",
              "794    Zuschuss Carroll         85\n",
              "795  Zuschuss Donatelli         54\n",
              "\n",
              "[796 rows x 2 columns]"
            ]
          },
          "metadata": {},
          "execution_count": 6
        }
      ]
    },
    {
      "cell_type": "code",
      "metadata": {
        "id": "WCyiZ1j2xM_D",
        "colab": {
          "base_uri": "https://localhost:8080/",
          "height": 205
        },
        "outputId": "02949958-ae46-4eef-a952-11547eac5b67"
      },
      "source": [
        "#Monetary\n",
        "monetary_df=df.groupby(by='Customer Name',as_index=False)['Total'].sum()\n",
        "monetary_df.columns=['CustomerName','Monetary']\n",
        "monetary_df.head()"
      ],
      "execution_count": null,
      "outputs": [
        {
          "output_type": "execute_result",
          "data": {
            "text/html": [
              "<div>\n",
              "<style scoped>\n",
              "    .dataframe tbody tr th:only-of-type {\n",
              "        vertical-align: middle;\n",
              "    }\n",
              "\n",
              "    .dataframe tbody tr th {\n",
              "        vertical-align: top;\n",
              "    }\n",
              "\n",
              "    .dataframe thead th {\n",
              "        text-align: right;\n",
              "    }\n",
              "</style>\n",
              "<table border=\"1\" class=\"dataframe\">\n",
              "  <thead>\n",
              "    <tr style=\"text-align: right;\">\n",
              "      <th></th>\n",
              "      <th>CustomerName</th>\n",
              "      <th>Monetary</th>\n",
              "    </tr>\n",
              "  </thead>\n",
              "  <tbody>\n",
              "    <tr>\n",
              "      <th>0</th>\n",
              "      <td>Aaron Bergman</td>\n",
              "      <td>120359.56970</td>\n",
              "    </tr>\n",
              "    <tr>\n",
              "      <th>1</th>\n",
              "      <td>Aaron Hawkins</td>\n",
              "      <td>102027.89568</td>\n",
              "    </tr>\n",
              "    <tr>\n",
              "      <th>2</th>\n",
              "      <td>Aaron Smayling</td>\n",
              "      <td>64406.23580</td>\n",
              "    </tr>\n",
              "    <tr>\n",
              "      <th>3</th>\n",
              "      <td>Adam Bellavance</td>\n",
              "      <td>109573.00940</td>\n",
              "    </tr>\n",
              "    <tr>\n",
              "      <th>4</th>\n",
              "      <td>Adam Hart</td>\n",
              "      <td>91431.54582</td>\n",
              "    </tr>\n",
              "  </tbody>\n",
              "</table>\n",
              "</div>"
            ],
            "text/plain": [
              "      CustomerName      Monetary\n",
              "0    Aaron Bergman  120359.56970\n",
              "1    Aaron Hawkins  102027.89568\n",
              "2   Aaron Smayling   64406.23580\n",
              "3  Adam Bellavance  109573.00940\n",
              "4        Adam Hart   91431.54582"
            ]
          },
          "metadata": {},
          "execution_count": 7
        }
      ]
    },
    {
      "cell_type": "code",
      "metadata": {
        "colab": {
          "base_uri": "https://localhost:8080/",
          "height": 205
        },
        "id": "7Rty2lxd2swG",
        "outputId": "7259e7bd-d56c-4765-e0df-942b8e3009b6"
      },
      "source": [
        "rf_df=recency_df.merge(frequency_df,on='CustomerName')\n",
        "rfm_df=rf_df.merge(monetary_df,on='CustomerName').drop(columns='LastPurchaseDate')\n",
        "rfm_df.head()"
      ],
      "execution_count": null,
      "outputs": [
        {
          "output_type": "execute_result",
          "data": {
            "text/html": [
              "<div>\n",
              "<style scoped>\n",
              "    .dataframe tbody tr th:only-of-type {\n",
              "        vertical-align: middle;\n",
              "    }\n",
              "\n",
              "    .dataframe tbody tr th {\n",
              "        vertical-align: top;\n",
              "    }\n",
              "\n",
              "    .dataframe thead th {\n",
              "        text-align: right;\n",
              "    }\n",
              "</style>\n",
              "<table border=\"1\" class=\"dataframe\">\n",
              "  <thead>\n",
              "    <tr style=\"text-align: right;\">\n",
              "      <th></th>\n",
              "      <th>CustomerName</th>\n",
              "      <th>Recency</th>\n",
              "      <th>Frequency</th>\n",
              "      <th>Monetary</th>\n",
              "    </tr>\n",
              "  </thead>\n",
              "  <tbody>\n",
              "    <tr>\n",
              "      <th>0</th>\n",
              "      <td>Aaron Bergman</td>\n",
              "      <td>16</td>\n",
              "      <td>89</td>\n",
              "      <td>120359.56970</td>\n",
              "    </tr>\n",
              "    <tr>\n",
              "      <th>1</th>\n",
              "      <td>Aaron Hawkins</td>\n",
              "      <td>12</td>\n",
              "      <td>56</td>\n",
              "      <td>102027.89568</td>\n",
              "    </tr>\n",
              "    <tr>\n",
              "      <th>2</th>\n",
              "      <td>Aaron Smayling</td>\n",
              "      <td>23</td>\n",
              "      <td>60</td>\n",
              "      <td>64406.23580</td>\n",
              "    </tr>\n",
              "    <tr>\n",
              "      <th>3</th>\n",
              "      <td>Adam Bellavance</td>\n",
              "      <td>35</td>\n",
              "      <td>68</td>\n",
              "      <td>109573.00940</td>\n",
              "    </tr>\n",
              "    <tr>\n",
              "      <th>4</th>\n",
              "      <td>Adam Hart</td>\n",
              "      <td>2</td>\n",
              "      <td>84</td>\n",
              "      <td>91431.54582</td>\n",
              "    </tr>\n",
              "  </tbody>\n",
              "</table>\n",
              "</div>"
            ],
            "text/plain": [
              "      CustomerName  Recency  Frequency      Monetary\n",
              "0    Aaron Bergman       16         89  120359.56970\n",
              "1    Aaron Hawkins       12         56  102027.89568\n",
              "2   Aaron Smayling       23         60   64406.23580\n",
              "3  Adam Bellavance       35         68  109573.00940\n",
              "4        Adam Hart        2         84   91431.54582"
            ]
          },
          "metadata": {},
          "execution_count": 8
        }
      ]
    },
    {
      "cell_type": "code",
      "metadata": {
        "colab": {
          "base_uri": "https://localhost:8080/",
          "height": 205
        },
        "id": "yR_Z43o9i_E9",
        "outputId": "3bce61bc-9dd7-4286-e0c4-3a9c9e038f4d"
      },
      "source": [
        "rfm_df['R_rank'] = rfm_df['Recency'].rank( ascending=False)\n",
        "rfm_df['F_rank'] = rfm_df['Frequency'].rank(ascending=True)\n",
        "rfm_df['M_rank'] = rfm_df['Monetary'].rank(ascending=True)\n",
        "rfm_df.head()"
      ],
      "execution_count": null,
      "outputs": [
        {
          "output_type": "execute_result",
          "data": {
            "text/html": [
              "<div>\n",
              "<style scoped>\n",
              "    .dataframe tbody tr th:only-of-type {\n",
              "        vertical-align: middle;\n",
              "    }\n",
              "\n",
              "    .dataframe tbody tr th {\n",
              "        vertical-align: top;\n",
              "    }\n",
              "\n",
              "    .dataframe thead th {\n",
              "        text-align: right;\n",
              "    }\n",
              "</style>\n",
              "<table border=\"1\" class=\"dataframe\">\n",
              "  <thead>\n",
              "    <tr style=\"text-align: right;\">\n",
              "      <th></th>\n",
              "      <th>CustomerName</th>\n",
              "      <th>Recency</th>\n",
              "      <th>Frequency</th>\n",
              "      <th>Monetary</th>\n",
              "      <th>R_rank</th>\n",
              "      <th>F_rank</th>\n",
              "      <th>M_rank</th>\n",
              "    </tr>\n",
              "  </thead>\n",
              "  <tbody>\n",
              "    <tr>\n",
              "      <th>0</th>\n",
              "      <td>Aaron Bergman</td>\n",
              "      <td>16</td>\n",
              "      <td>89</td>\n",
              "      <td>120359.56970</td>\n",
              "      <td>397.5</td>\n",
              "      <td>770.5</td>\n",
              "      <td>713.0</td>\n",
              "    </tr>\n",
              "    <tr>\n",
              "      <th>1</th>\n",
              "      <td>Aaron Hawkins</td>\n",
              "      <td>12</td>\n",
              "      <td>56</td>\n",
              "      <td>102027.89568</td>\n",
              "      <td>486.5</td>\n",
              "      <td>221.5</td>\n",
              "      <td>637.0</td>\n",
              "    </tr>\n",
              "    <tr>\n",
              "      <th>2</th>\n",
              "      <td>Aaron Smayling</td>\n",
              "      <td>23</td>\n",
              "      <td>60</td>\n",
              "      <td>64406.23580</td>\n",
              "      <td>298.0</td>\n",
              "      <td>308.0</td>\n",
              "      <td>309.0</td>\n",
              "    </tr>\n",
              "    <tr>\n",
              "      <th>3</th>\n",
              "      <td>Adam Bellavance</td>\n",
              "      <td>35</td>\n",
              "      <td>68</td>\n",
              "      <td>109573.00940</td>\n",
              "      <td>173.0</td>\n",
              "      <td>495.0</td>\n",
              "      <td>679.0</td>\n",
              "    </tr>\n",
              "    <tr>\n",
              "      <th>4</th>\n",
              "      <td>Adam Hart</td>\n",
              "      <td>2</td>\n",
              "      <td>84</td>\n",
              "      <td>91431.54582</td>\n",
              "      <td>699.0</td>\n",
              "      <td>734.5</td>\n",
              "      <td>569.0</td>\n",
              "    </tr>\n",
              "  </tbody>\n",
              "</table>\n",
              "</div>"
            ],
            "text/plain": [
              "      CustomerName  Recency  Frequency      Monetary  R_rank  F_rank  M_rank\n",
              "0    Aaron Bergman       16         89  120359.56970   397.5   770.5   713.0\n",
              "1    Aaron Hawkins       12         56  102027.89568   486.5   221.5   637.0\n",
              "2   Aaron Smayling       23         60   64406.23580   298.0   308.0   309.0\n",
              "3  Adam Bellavance       35         68  109573.00940   173.0   495.0   679.0\n",
              "4        Adam Hart        2         84   91431.54582   699.0   734.5   569.0"
            ]
          },
          "metadata": {},
          "execution_count": 9
        }
      ]
    },
    {
      "cell_type": "code",
      "metadata": {
        "colab": {
          "base_uri": "https://localhost:8080/",
          "height": 205
        },
        "id": "z95SYTgqlTic",
        "outputId": "4d13de75-afdc-4a2b-83bf-ae17c3de0b4a"
      },
      "source": [
        "rfm_df['R_rank_norm']=(rfm_df['R_rank']/rfm_df['R_rank'].max())*100\n",
        "rfm_df['F_rank_norm']=(rfm_df['F_rank']/rfm_df['F_rank'].max())*100\n",
        "rfm_df['M_rank_norm']=(rfm_df['F_rank']/rfm_df['M_rank'].max())*100\n",
        "rfm_df.drop(columns=['R_rank','F_rank','M_rank'],inplace=True)\n",
        "rfm_df.head()"
      ],
      "execution_count": null,
      "outputs": [
        {
          "output_type": "execute_result",
          "data": {
            "text/html": [
              "<div>\n",
              "<style scoped>\n",
              "    .dataframe tbody tr th:only-of-type {\n",
              "        vertical-align: middle;\n",
              "    }\n",
              "\n",
              "    .dataframe tbody tr th {\n",
              "        vertical-align: top;\n",
              "    }\n",
              "\n",
              "    .dataframe thead th {\n",
              "        text-align: right;\n",
              "    }\n",
              "</style>\n",
              "<table border=\"1\" class=\"dataframe\">\n",
              "  <thead>\n",
              "    <tr style=\"text-align: right;\">\n",
              "      <th></th>\n",
              "      <th>CustomerName</th>\n",
              "      <th>Recency</th>\n",
              "      <th>Frequency</th>\n",
              "      <th>Monetary</th>\n",
              "      <th>R_rank_norm</th>\n",
              "      <th>F_rank_norm</th>\n",
              "      <th>M_rank_norm</th>\n",
              "    </tr>\n",
              "  </thead>\n",
              "  <tbody>\n",
              "    <tr>\n",
              "      <th>0</th>\n",
              "      <td>Aaron Bergman</td>\n",
              "      <td>16</td>\n",
              "      <td>89</td>\n",
              "      <td>120359.56970</td>\n",
              "      <td>50.994227</td>\n",
              "      <td>96.796482</td>\n",
              "      <td>96.796482</td>\n",
              "    </tr>\n",
              "    <tr>\n",
              "      <th>1</th>\n",
              "      <td>Aaron Hawkins</td>\n",
              "      <td>12</td>\n",
              "      <td>56</td>\n",
              "      <td>102027.89568</td>\n",
              "      <td>62.411802</td>\n",
              "      <td>27.826633</td>\n",
              "      <td>27.826633</td>\n",
              "    </tr>\n",
              "    <tr>\n",
              "      <th>2</th>\n",
              "      <td>Aaron Smayling</td>\n",
              "      <td>23</td>\n",
              "      <td>60</td>\n",
              "      <td>64406.23580</td>\n",
              "      <td>38.229634</td>\n",
              "      <td>38.693467</td>\n",
              "      <td>38.693467</td>\n",
              "    </tr>\n",
              "    <tr>\n",
              "      <th>3</th>\n",
              "      <td>Adam Bellavance</td>\n",
              "      <td>35</td>\n",
              "      <td>68</td>\n",
              "      <td>109573.00940</td>\n",
              "      <td>22.193714</td>\n",
              "      <td>62.185930</td>\n",
              "      <td>62.185930</td>\n",
              "    </tr>\n",
              "    <tr>\n",
              "      <th>4</th>\n",
              "      <td>Adam Hart</td>\n",
              "      <td>2</td>\n",
              "      <td>84</td>\n",
              "      <td>91431.54582</td>\n",
              "      <td>89.672867</td>\n",
              "      <td>92.273869</td>\n",
              "      <td>92.273869</td>\n",
              "    </tr>\n",
              "  </tbody>\n",
              "</table>\n",
              "</div>"
            ],
            "text/plain": [
              "      CustomerName  Recency  Frequency  ...  R_rank_norm  F_rank_norm  M_rank_norm\n",
              "0    Aaron Bergman       16         89  ...    50.994227    96.796482    96.796482\n",
              "1    Aaron Hawkins       12         56  ...    62.411802    27.826633    27.826633\n",
              "2   Aaron Smayling       23         60  ...    38.229634    38.693467    38.693467\n",
              "3  Adam Bellavance       35         68  ...    22.193714    62.185930    62.185930\n",
              "4        Adam Hart        2         84  ...    89.672867    92.273869    92.273869\n",
              "\n",
              "[5 rows x 7 columns]"
            ]
          },
          "metadata": {},
          "execution_count": 10
        }
      ]
    },
    {
      "cell_type": "code",
      "metadata": {
        "colab": {
          "base_uri": "https://localhost:8080/",
          "height": 268
        },
        "id": "CA0JQt6EuljN",
        "outputId": "ad11a883-366c-4d6d-dfbb-35bdd868d4da"
      },
      "source": [
        "rfm_df['RFM_Score']=0.15*rfm_df['R_rank_norm']+0.28*rfm_df['F_rank_norm']+0.57*rfm_df['M_rank_norm']\n",
        "# rfm_df['RFM_Score']*=0.05\n",
        "rfm_df=rfm_df.round(2)\n",
        "rfm_df[['CustomerName','RFM_Score']].head(7)"
      ],
      "execution_count": null,
      "outputs": [
        {
          "output_type": "execute_result",
          "data": {
            "text/html": [
              "<div>\n",
              "<style scoped>\n",
              "    .dataframe tbody tr th:only-of-type {\n",
              "        vertical-align: middle;\n",
              "    }\n",
              "\n",
              "    .dataframe tbody tr th {\n",
              "        vertical-align: top;\n",
              "    }\n",
              "\n",
              "    .dataframe thead th {\n",
              "        text-align: right;\n",
              "    }\n",
              "</style>\n",
              "<table border=\"1\" class=\"dataframe\">\n",
              "  <thead>\n",
              "    <tr style=\"text-align: right;\">\n",
              "      <th></th>\n",
              "      <th>CustomerName</th>\n",
              "      <th>RFM_Score</th>\n",
              "    </tr>\n",
              "  </thead>\n",
              "  <tbody>\n",
              "    <tr>\n",
              "      <th>0</th>\n",
              "      <td>Aaron Bergman</td>\n",
              "      <td>89.93</td>\n",
              "    </tr>\n",
              "    <tr>\n",
              "      <th>1</th>\n",
              "      <td>Aaron Hawkins</td>\n",
              "      <td>33.02</td>\n",
              "    </tr>\n",
              "    <tr>\n",
              "      <th>2</th>\n",
              "      <td>Aaron Smayling</td>\n",
              "      <td>38.62</td>\n",
              "    </tr>\n",
              "    <tr>\n",
              "      <th>3</th>\n",
              "      <td>Adam Bellavance</td>\n",
              "      <td>56.19</td>\n",
              "    </tr>\n",
              "    <tr>\n",
              "      <th>4</th>\n",
              "      <td>Adam Hart</td>\n",
              "      <td>91.88</td>\n",
              "    </tr>\n",
              "    <tr>\n",
              "      <th>5</th>\n",
              "      <td>Adam Shillingsburg</td>\n",
              "      <td>67.18</td>\n",
              "    </tr>\n",
              "    <tr>\n",
              "      <th>6</th>\n",
              "      <td>Adrian Barton</td>\n",
              "      <td>74.43</td>\n",
              "    </tr>\n",
              "  </tbody>\n",
              "</table>\n",
              "</div>"
            ],
            "text/plain": [
              "         CustomerName  RFM_Score\n",
              "0       Aaron Bergman      89.93\n",
              "1       Aaron Hawkins      33.02\n",
              "2      Aaron Smayling      38.62\n",
              "3     Adam Bellavance      56.19\n",
              "4           Adam Hart      91.88\n",
              "5  Adam Shillingsburg      67.18\n",
              "6       Adrian Barton      74.43"
            ]
          },
          "metadata": {},
          "execution_count": 43
        }
      ]
    },
    {
      "cell_type": "code",
      "metadata": {
        "id": "U21NiGXsu4Xc",
        "colab": {
          "base_uri": "https://localhost:8080/",
          "height": 205
        },
        "outputId": "62a5eaa7-3a98-4e71-b0c4-0188f43e4ebb"
      },
      "source": [
        "# ## Customer segments with RFM Model\n",
        "# # Segment customers based on RFM score\n",
        "# 0 - 50 - Low valued customer\n",
        "# 50 - 75 - Medium valued customer\n",
        "# 76 - 100 - High valued customer\n",
        "rfm_df[\"Customer_segment\"]=np.where(rfm_df['RFM_Score'] > 75 ,\"High Value Customer\",(np.where(rfm_df['RFM_Score'] < 50 , \"Low value Customer\" ,\"Medium Value Customer\")))\n",
        "rfm_df.head()"
      ],
      "execution_count": null,
      "outputs": [
        {
          "output_type": "execute_result",
          "data": {
            "text/html": [
              "<div>\n",
              "<style scoped>\n",
              "    .dataframe tbody tr th:only-of-type {\n",
              "        vertical-align: middle;\n",
              "    }\n",
              "\n",
              "    .dataframe tbody tr th {\n",
              "        vertical-align: top;\n",
              "    }\n",
              "\n",
              "    .dataframe thead th {\n",
              "        text-align: right;\n",
              "    }\n",
              "</style>\n",
              "<table border=\"1\" class=\"dataframe\">\n",
              "  <thead>\n",
              "    <tr style=\"text-align: right;\">\n",
              "      <th></th>\n",
              "      <th>CustomerName</th>\n",
              "      <th>Recency</th>\n",
              "      <th>Frequency</th>\n",
              "      <th>Monetary</th>\n",
              "      <th>R_rank_norm</th>\n",
              "      <th>F_rank_norm</th>\n",
              "      <th>M_rank_norm</th>\n",
              "      <th>RFM_Score</th>\n",
              "      <th>Customer_segment</th>\n",
              "    </tr>\n",
              "  </thead>\n",
              "  <tbody>\n",
              "    <tr>\n",
              "      <th>0</th>\n",
              "      <td>Aaron Bergman</td>\n",
              "      <td>16</td>\n",
              "      <td>89</td>\n",
              "      <td>120359.57</td>\n",
              "      <td>50.99</td>\n",
              "      <td>96.80</td>\n",
              "      <td>96.80</td>\n",
              "      <td>89.93</td>\n",
              "      <td>High Value Customer</td>\n",
              "    </tr>\n",
              "    <tr>\n",
              "      <th>1</th>\n",
              "      <td>Aaron Hawkins</td>\n",
              "      <td>12</td>\n",
              "      <td>56</td>\n",
              "      <td>102027.90</td>\n",
              "      <td>62.41</td>\n",
              "      <td>27.83</td>\n",
              "      <td>27.83</td>\n",
              "      <td>33.02</td>\n",
              "      <td>Low value Customer</td>\n",
              "    </tr>\n",
              "    <tr>\n",
              "      <th>2</th>\n",
              "      <td>Aaron Smayling</td>\n",
              "      <td>23</td>\n",
              "      <td>60</td>\n",
              "      <td>64406.24</td>\n",
              "      <td>38.23</td>\n",
              "      <td>38.69</td>\n",
              "      <td>38.69</td>\n",
              "      <td>38.62</td>\n",
              "      <td>Low value Customer</td>\n",
              "    </tr>\n",
              "    <tr>\n",
              "      <th>3</th>\n",
              "      <td>Adam Bellavance</td>\n",
              "      <td>35</td>\n",
              "      <td>68</td>\n",
              "      <td>109573.01</td>\n",
              "      <td>22.19</td>\n",
              "      <td>62.19</td>\n",
              "      <td>62.19</td>\n",
              "      <td>56.19</td>\n",
              "      <td>Medium Value Customer</td>\n",
              "    </tr>\n",
              "    <tr>\n",
              "      <th>4</th>\n",
              "      <td>Adam Hart</td>\n",
              "      <td>2</td>\n",
              "      <td>84</td>\n",
              "      <td>91431.55</td>\n",
              "      <td>89.67</td>\n",
              "      <td>92.27</td>\n",
              "      <td>92.27</td>\n",
              "      <td>91.88</td>\n",
              "      <td>High Value Customer</td>\n",
              "    </tr>\n",
              "  </tbody>\n",
              "</table>\n",
              "</div>"
            ],
            "text/plain": [
              "      CustomerName  Recency  ...  RFM_Score       Customer_segment\n",
              "0    Aaron Bergman       16  ...      89.93    High Value Customer\n",
              "1    Aaron Hawkins       12  ...      33.02     Low value Customer\n",
              "2   Aaron Smayling       23  ...      38.62     Low value Customer\n",
              "3  Adam Bellavance       35  ...      56.19  Medium Value Customer\n",
              "4        Adam Hart        2  ...      91.88    High Value Customer\n",
              "\n",
              "[5 rows x 9 columns]"
            ]
          },
          "metadata": {},
          "execution_count": 44
        }
      ]
    },
    {
      "cell_type": "code",
      "metadata": {
        "id": "6djzsqq93W_h"
      },
      "source": [
        "df.head()"
      ],
      "execution_count": null,
      "outputs": []
    },
    {
      "cell_type": "code",
      "metadata": {
        "id": "qq0sdzQd7B6o"
      },
      "source": [
        "# market, segment , category , region"
      ],
      "execution_count": null,
      "outputs": []
    },
    {
      "cell_type": "code",
      "metadata": {
        "id": "tVE9gXCP7KLk"
      },
      "source": [
        "plt.pie(rfm_df['Customer_segment'].value_counts().values,autopct='%1.1f%%',labels=rfm_df['Customer_segment'].value_counts().index,radius=2,shadow=True,explode=[0,0.1,0.2],colors=['#ff9999','#66b3ff','#99ff99'])"
      ],
      "execution_count": null,
      "outputs": []
    },
    {
      "cell_type": "code",
      "metadata": {
        "id": "mMYEpclM7-Xq"
      },
      "source": [
        "rfm_df.to_csv(path_or_buf='rfm.csv')"
      ],
      "execution_count": null,
      "outputs": []
    },
    {
      "cell_type": "code",
      "metadata": {
        "id": "8wePw-lnQBDa"
      },
      "source": [
        "df.State.value_counts()"
      ],
      "execution_count": null,
      "outputs": []
    },
    {
      "cell_type": "code",
      "metadata": {
        "id": "X1fdgcVjQVEn"
      },
      "source": [
        "segment=dict(rfm_df.set_index('CustomerName')['Customer_segment'])"
      ],
      "execution_count": null,
      "outputs": []
    },
    {
      "cell_type": "code",
      "metadata": {
        "id": "f2C7TZFOQ4r4"
      },
      "source": [
        "df['CustomerSegment']=[segment[i] for i in df['Customer Name'] ]\n",
        "df.head()"
      ],
      "execution_count": null,
      "outputs": []
    },
    {
      "cell_type": "code",
      "metadata": {
        "id": "RstD9lCATdos"
      },
      "source": [
        "df[df['State']=='Rajasthan'].CustomerSegment.value_counts()"
      ],
      "execution_count": null,
      "outputs": []
    },
    {
      "cell_type": "code",
      "metadata": {
        "id": "voWYn1l3dKaM"
      },
      "source": [
        "segment=pd.DataFrame({'State':df.State.unique()})\n",
        "high=[]\n",
        "med=[]\n",
        "low=[]\n",
        "for i in df.State.unique():\n",
        "  high.append(df[df['State']==i].CustomerSegment.value_counts()['High Value Customer'])\n",
        "  med.append(df[df['State']==i].CustomerSegment.value_counts()['Medium Value Customer'])\n",
        "  low.append(df[df['State']==i].CustomerSegment.value_counts()['Low value Customer'])\n",
        "segment['High Value Customer']=high\n",
        "segment['Medium Value Customer']=med\n",
        "segment['Low Value Customer']=low\n",
        "segment"
      ],
      "execution_count": null,
      "outputs": []
    },
    {
      "cell_type": "code",
      "metadata": {
        "id": "5qr3xkUosGOy"
      },
      "source": [
        "segment.to_csv(path_or_buf='State wise Customer sentiments.csv')"
      ],
      "execution_count": null,
      "outputs": []
    },
    {
      "cell_type": "code",
      "metadata": {
        "id": "AKd2UrQZej64"
      },
      "source": [
        "f=plt.figure()\n",
        "f.set_figwidth(50)\n",
        "f.set_figheight(20)\n",
        "plt.bar(segment.State,segment['High Value Customer'])"
      ],
      "execution_count": null,
      "outputs": []
    },
    {
      "cell_type": "code",
      "metadata": {
        "id": "w6IfAuJ8gE36"
      },
      "source": [
        "from bokeh.io import output_file, show,output_notebook\n",
        "from bokeh.plotting import figure\n",
        "\n",
        "output_file(\"stacked.html\")\n",
        "output_notebook()\n",
        "\n",
        "colors = [\"#47669e\", \"#718dbf\",\"#c9d9d3\"]\n",
        "\n",
        "\n",
        "p = figure(x_range=list(segment.State), title=\"Customer Value analysis state wise\",plot_width=1200,plot_height=500)\n",
        "\n",
        "p.vbar_stack(list(segment.columns[1:]), x='State', width=0.9, color=colors, source=segment,legend_label=list(segment.columns[1:]))\n",
        "\n",
        "# p.y_range.start = 0\n",
        "p.x_range.range_padding = 0.1\n",
        "p.xgrid.grid_line_color = None\n",
        "p.axis.minor_tick_line_color = None\n",
        "p.outline_line_color = None\n",
        "p.legend.location = \"top_left\"\n",
        "p.legend.orientation = \"horizontal\"\n",
        "p.xaxis.major_label_orientation = 'vertical'\n",
        "\n",
        "show(p)"
      ],
      "execution_count": null,
      "outputs": []
    },
    {
      "cell_type": "code",
      "metadata": {
        "id": "yx-N6cD1sBGK"
      },
      "source": [
        "df"
      ],
      "execution_count": null,
      "outputs": []
    },
    {
      "cell_type": "code",
      "metadata": {
        "id": "Ztz6iXjxsuxz"
      },
      "source": [
        "category=pd.DataFrame(df.groupby(['Category'])['Profit'].sum())\n",
        "category"
      ],
      "execution_count": null,
      "outputs": []
    },
    {
      "cell_type": "code",
      "metadata": {
        "id": "_5yfh3bFv3K2"
      },
      "source": [
        "plt.pie(category,labels=category.index,shadow=True,autopct='%.2f%%',explode=[0.1,0,0.1],colors=['#827ef7','#aef090','#f7ab54'] )\n",
        "plt.show()"
      ],
      "execution_count": null,
      "outputs": []
    },
    {
      "cell_type": "code",
      "metadata": {
        "id": "tVUujgwMttMl"
      },
      "source": [
        "category_customerseg=pd.DataFrame(df.groupby(['Category'])['CustomerSegment'].value_counts())\n",
        "category_customerseg"
      ],
      "execution_count": null,
      "outputs": []
    },
    {
      "cell_type": "code",
      "metadata": {
        "id": "mB1UPqHNzhAI"
      },
      "source": [
        "colors=['#ec8ef5','#dd64e8','#12cdfc']\n",
        "plt.pie(category_customerseg.loc['Furniture'],labels=category_customerseg.loc['Furniture'].index,shadow=True,explode=[-0.04,0,0.05],autopct='%.2f',colors=colors)\n",
        "plt.show()\n",
        "plt.pie(category_customerseg.loc['Technology'],labels=category_customerseg.loc['Technology'].index,shadow=True,explode=[-0.04,0,0.05],autopct='%.2f',colors=colors)\n",
        "plt.show()\n",
        "plt.pie(category_customerseg.loc['Office Supplies'],labels=category_customerseg.loc['Office Supplies'].index,shadow=True,explode=[-0.04,0,0.05],autopct='%.2f',colors=colors)\n",
        "plt.show()"
      ],
      "execution_count": null,
      "outputs": []
    },
    {
      "cell_type": "code",
      "metadata": {
        "id": "aYXMTz8Dus1k"
      },
      "source": [
        "category_sub=pd.DataFrame(df.groupby(['Category'])['Sub-Category'].value_counts())"
      ],
      "execution_count": null,
      "outputs": []
    },
    {
      "cell_type": "code",
      "metadata": {
        "id": "6kvWdcAE409w"
      },
      "source": [
        "category_sub.loc['Furniture']['Sub-Category'].values"
      ],
      "execution_count": null,
      "outputs": []
    },
    {
      "cell_type": "code",
      "metadata": {
        "id": "MCB3TSSP4dlq"
      },
      "source": [
        "plt.pie(category_sub.loc['Furniture']['Sub-Category'].values,labels=category_sub.loc['Furniture'].index,autopct='%.1f%%',explode=[0.1,0,0,0],shadow=True,colors=['#2b24e3','#5953f5','#716dfc','#827ef7'])\n",
        "plt.title('Sale of Sub-category of Furniture')\n",
        "plt.show()\n",
        "plt.pie(category_sub.loc['Technology']['Sub-Category'].values,labels=category_sub.loc['Technology'].index,autopct='%.1f%%',explode=[0.1,0,0,0],shadow=True,colors=['#e08b28','#f09a37','#faa748','#f7ab54'])\n",
        "plt.title('Sale of Sub-category of Technology')\n",
        "plt.show()\n",
        "f=plt.figure()\n",
        "f.set_figwidth(20)\n",
        "plt.pie(category_sub.loc['Office Supplies']['Sub-Category'].values,labels=category_sub.loc['Office Supplies'].index,autopct='%.1f%%',explode=[0.1,0,0,0,0,0,0,0,0],shadow=True,colors=['#4ab818','#5acc25','#65d631','#74e041','#80f24b','#90fa5f','#9ffc74','#a8f783','#aef090'])\n",
        "plt.title('Sale of Sub-category of Office Supplies')\n",
        "plt.show()"
      ],
      "execution_count": null,
      "outputs": []
    },
    {
      "cell_type": "code",
      "metadata": {
        "id": "tauanTnXvAZK"
      },
      "source": [
        "category_state=pd.DataFrame(df.groupby(['State'])['Category'].value_counts())\n",
        "# category_state.loc['Andhra Pradesh'].index\n",
        "category_state.head(6)"
      ],
      "execution_count": null,
      "outputs": []
    },
    {
      "cell_type": "code",
      "metadata": {
        "id": "UnLucjUqkmPF"
      },
      "source": [
        "offs=[]\n",
        "fur=[]\n",
        "tech=[]\n",
        "for i in range(0,len(category_state.values),3):\n",
        "  offs.append(category_state.values[i][0])\n",
        "  fur.append(category_state.values[i+1][0])\n",
        "  tech.append(category_state.values[i+2][0])"
      ],
      "execution_count": null,
      "outputs": []
    },
    {
      "cell_type": "code",
      "metadata": {
        "id": "ZFPUDicdvftm"
      },
      "source": [
        "f=plt.figure()\n",
        "f.set_figwidth(20)\n",
        "plt.bar(segment.State,offs)\n",
        "plt.bar(segment.State,fur,bottom=offs)\n",
        "plt.bar(segment.State,tech,bottom=np.array(fur)+np.array(offs))\n",
        "plt.xlabel('States')\n",
        "plt.ylabel('Order Frequency')\n",
        "plt.legend(['Office Supplies','Furniture','Technology'])\n",
        "plt.xticks(rotation=90)\n",
        "plt.show()"
      ],
      "execution_count": null,
      "outputs": []
    },
    {
      "cell_type": "code",
      "metadata": {
        "id": "M3s3joxhuaLB"
      },
      "source": [
        "data=pd.DataFrame({'ds':pd.to_datetime(df['Order Date']),'y':df.Sales*df.Quantity})\n"
      ],
      "execution_count": null,
      "outputs": []
    },
    {
      "cell_type": "code",
      "metadata": {
        "id": "CZwv2GUfufjz"
      },
      "source": [
        "f=plt.figure()\n",
        "f.set_figwidth(20)\n",
        "movingavereage=data['y'].rolling(window=1000).mean()\n",
        "plt.plot(data.ds,movingavereage)"
      ],
      "execution_count": null,
      "outputs": []
    },
    {
      "cell_type": "code",
      "metadata": {
        "id": "iZf--TwC8Tyb"
      },
      "source": [
        "delivery=pd.to_datetime(df['Ship Date'])-pd.to_datetime(df['Order Date'])\n",
        "order_df=pd.DataFrame({'Delivery Duration':delivery,'State':df.State,'Segment':df['CustomerSegment']})\n",
        "order_df.head()"
      ],
      "execution_count": null,
      "outputs": []
    },
    {
      "cell_type": "code",
      "metadata": {
        "id": "_SfTXb4Y9JjE"
      },
      "source": [
        "order_df[order_df['Segment']=='High Value Customer']['Delivery Duration'].mode()"
      ],
      "execution_count": null,
      "outputs": []
    },
    {
      "cell_type": "code",
      "metadata": {
        "id": "AlIb56UR9kz-"
      },
      "source": [
        "order_df[order_df['Segment']=='Medium Value Customer']['Delivery Duration'].mode()"
      ],
      "execution_count": null,
      "outputs": []
    },
    {
      "cell_type": "code",
      "metadata": {
        "id": "Tz5VzI6V9k3m"
      },
      "source": [
        "order_df[order_df['Segment']=='Low value Customer']['Delivery Duration'].mode()"
      ],
      "execution_count": null,
      "outputs": []
    },
    {
      "cell_type": "code",
      "metadata": {
        "id": "6ZgtCopuEqYL"
      },
      "source": [
        "for i in order_df.State.unique():\n",
        "  print(i,order_df[order_df['State']==i]['Delivery Duration'].median())"
      ],
      "execution_count": null,
      "outputs": []
    },
    {
      "cell_type": "code",
      "metadata": {
        "id": "ap3GGzqsxV4a"
      },
      "source": [
        "for i in order_df.iloc[50000:,:].State.unique():\n",
        "  print(i,order_df[order_df['State']==i]['Delivery Duration'].median())"
      ],
      "execution_count": null,
      "outputs": []
    },
    {
      "cell_type": "code",
      "metadata": {
        "id": "xIR1Q1tqyV5C"
      },
      "source": [
        "order_df[order_df['State']=='Rajasthan']['Delivery Duration'][:10].mean()"
      ],
      "execution_count": null,
      "outputs": []
    },
    {
      "cell_type": "code",
      "metadata": {
        "id": "n2U8lGeDymob"
      },
      "source": [
        "order_df[order_df['State']=='Rajasthan']['Delivery Duration']"
      ],
      "execution_count": null,
      "outputs": []
    },
    {
      "cell_type": "code",
      "metadata": {
        "id": "Ah7iAmf6-mM_"
      },
      "source": [
        "df.head()"
      ],
      "execution_count": null,
      "outputs": []
    },
    {
      "cell_type": "code",
      "metadata": {
        "id": "IiQEvL35C8II"
      },
      "source": [
        "stt=[]\n",
        "for i in df.State.unique():\n",
        "  stt.append(df[df['State']==i]['Profit'].sum()/df[df['State']=='Rajasthan']['Sales'].sum())"
      ],
      "execution_count": null,
      "outputs": []
    },
    {
      "cell_type": "code",
      "metadata": {
        "id": "nGbV-dyyDxL-"
      },
      "source": [
        "f=plt.figure()\n",
        "f.set_figwidth(20)\n",
        "plt.bar(df.State.unique(),np.array(stt)*100,color='#1f2151')\n",
        "plt.xlabel('State')\n",
        "plt.ylabel('Profit%')\n",
        "plt.xticks(rotation=90)\n",
        "plt.show()"
      ],
      "execution_count": null,
      "outputs": []
    },
    {
      "cell_type": "code",
      "metadata": {
        "id": "w4zOV7FwFJQz"
      },
      "source": [
        "stt2=[]\n",
        "for i in df.State.unique():\n",
        "  stt2.append(df[df['State']==i]['Quantity'].sum())"
      ],
      "execution_count": null,
      "outputs": []
    },
    {
      "cell_type": "code",
      "metadata": {
        "id": "BTEKQN4iF0Pe"
      },
      "source": [
        "f=plt.figure()\n",
        "f.set_figwidth(20)\n",
        "plt.bar(df.State.unique(),np.array(stt2),color='#1f2151')\n",
        "plt.xlabel('State')\n",
        "plt.ylabel('Quantity')\n",
        "plt.xticks(rotation=90)\n",
        "plt.show()"
      ],
      "execution_count": null,
      "outputs": []
    },
    {
      "cell_type": "code",
      "metadata": {
        "id": "6S1VKu7iJB-r"
      },
      "source": [
        "plt.pie(df.groupby(['CustomerSegment'])['Discount'].sum(),autopct='%.f%%',explode=[0,0.03,0],colors=['#fa64e8','#c72ab5','#e041ce'],labels=df.groupby(['CustomerSegment'])['Discount'].sum().index)\n",
        "plt.title('Investments on providing discounts to Customers')\n",
        "plt.show()"
      ],
      "execution_count": null,
      "outputs": []
    },
    {
      "cell_type": "code",
      "metadata": {
        "id": "B3YKrj9nJqF3"
      },
      "source": [
        "df.groupby(['CustomerSegment'])['Discount'].sum().index"
      ],
      "execution_count": null,
      "outputs": []
    },
    {
      "cell_type": "code",
      "metadata": {
        "id": "jEaQDno-yxHV"
      },
      "source": [
        ""
      ],
      "execution_count": null,
      "outputs": []
    },
    {
      "cell_type": "markdown",
      "metadata": {
        "id": "hevD-kE7yxqB"
      },
      "source": [
        "# RFM Analysis"
      ]
    },
    {
      "cell_type": "code",
      "metadata": {
        "colab": {
          "base_uri": "https://localhost:8080/",
          "height": 205
        },
        "id": "NjTr0423yMK0",
        "outputId": "6cb4097e-3419-4792-90c1-4c7cdab64281"
      },
      "source": [
        "#importing neccesary libraries\n",
        "import pandas as pd\n",
        "import datetime as dt\n",
        "import numpy as np\n",
        "\n",
        "#importing the data\n",
        "df=pd.read_excel('/content/ACCS Case Study Data.xlsx')\n",
        "df.head()"
      ],
      "execution_count": null,
      "outputs": [
        {
          "output_type": "execute_result",
          "data": {
            "text/html": [
              "<div>\n",
              "<style scoped>\n",
              "    .dataframe tbody tr th:only-of-type {\n",
              "        vertical-align: middle;\n",
              "    }\n",
              "\n",
              "    .dataframe tbody tr th {\n",
              "        vertical-align: top;\n",
              "    }\n",
              "\n",
              "    .dataframe thead th {\n",
              "        text-align: right;\n",
              "    }\n",
              "</style>\n",
              "<table border=\"1\" class=\"dataframe\">\n",
              "  <thead>\n",
              "    <tr style=\"text-align: right;\">\n",
              "      <th></th>\n",
              "      <th>Order Date</th>\n",
              "      <th>Ship Date</th>\n",
              "      <th>Customer Name</th>\n",
              "      <th>State</th>\n",
              "      <th>Category</th>\n",
              "      <th>Segment</th>\n",
              "      <th>Sub-Category</th>\n",
              "      <th>Sales</th>\n",
              "      <th>Quantity</th>\n",
              "      <th>Discount</th>\n",
              "      <th>Profit</th>\n",
              "    </tr>\n",
              "  </thead>\n",
              "  <tbody>\n",
              "    <tr>\n",
              "      <th>0</th>\n",
              "      <td>2012-01-01</td>\n",
              "      <td>2012-01-06</td>\n",
              "      <td>Toby Braunhardt</td>\n",
              "      <td>Rajasthan</td>\n",
              "      <td>Office Supplies</td>\n",
              "      <td>Consumer</td>\n",
              "      <td>Storage</td>\n",
              "      <td>408.300</td>\n",
              "      <td>2</td>\n",
              "      <td>0.0</td>\n",
              "      <td>106.140</td>\n",
              "    </tr>\n",
              "    <tr>\n",
              "      <th>1</th>\n",
              "      <td>2012-01-01</td>\n",
              "      <td>2012-01-08</td>\n",
              "      <td>Joseph Holt</td>\n",
              "      <td>Uttar Pradesh</td>\n",
              "      <td>Office Supplies</td>\n",
              "      <td>Consumer</td>\n",
              "      <td>Supplies</td>\n",
              "      <td>120.366</td>\n",
              "      <td>3</td>\n",
              "      <td>0.1</td>\n",
              "      <td>36.036</td>\n",
              "    </tr>\n",
              "    <tr>\n",
              "      <th>2</th>\n",
              "      <td>2012-01-01</td>\n",
              "      <td>2012-01-05</td>\n",
              "      <td>Annie Thurman</td>\n",
              "      <td>Haryana</td>\n",
              "      <td>Office Supplies</td>\n",
              "      <td>Consumer</td>\n",
              "      <td>Storage</td>\n",
              "      <td>66.120</td>\n",
              "      <td>4</td>\n",
              "      <td>0.0</td>\n",
              "      <td>29.640</td>\n",
              "    </tr>\n",
              "    <tr>\n",
              "      <th>3</th>\n",
              "      <td>2012-01-01</td>\n",
              "      <td>2012-01-05</td>\n",
              "      <td>Eugene Moren</td>\n",
              "      <td>Punjab</td>\n",
              "      <td>Office Supplies</td>\n",
              "      <td>Home Office</td>\n",
              "      <td>Paper</td>\n",
              "      <td>44.865</td>\n",
              "      <td>3</td>\n",
              "      <td>0.5</td>\n",
              "      <td>-26.055</td>\n",
              "    </tr>\n",
              "    <tr>\n",
              "      <th>4</th>\n",
              "      <td>2012-01-01</td>\n",
              "      <td>2012-01-08</td>\n",
              "      <td>Joseph Holt</td>\n",
              "      <td>Uttar Pradesh</td>\n",
              "      <td>Furniture</td>\n",
              "      <td>Consumer</td>\n",
              "      <td>Furnishings</td>\n",
              "      <td>113.670</td>\n",
              "      <td>5</td>\n",
              "      <td>0.1</td>\n",
              "      <td>37.770</td>\n",
              "    </tr>\n",
              "  </tbody>\n",
              "</table>\n",
              "</div>"
            ],
            "text/plain": [
              "  Order Date  Ship Date    Customer Name  ... Quantity Discount   Profit\n",
              "0 2012-01-01 2012-01-06  Toby Braunhardt  ...        2      0.0  106.140\n",
              "1 2012-01-01 2012-01-08      Joseph Holt  ...        3      0.1   36.036\n",
              "2 2012-01-01 2012-01-05    Annie Thurman  ...        4      0.0   29.640\n",
              "3 2012-01-01 2012-01-05     Eugene Moren  ...        3      0.5  -26.055\n",
              "4 2012-01-01 2012-01-08      Joseph Holt  ...        5      0.1   37.770\n",
              "\n",
              "[5 rows x 11 columns]"
            ]
          },
          "metadata": {},
          "execution_count": 55
        }
      ]
    },
    {
      "cell_type": "code",
      "metadata": {
        "colab": {
          "base_uri": "https://localhost:8080/",
          "height": 224
        },
        "id": "EhAT7ixZyMjj",
        "outputId": "e4ec5118-7542-41d5-ffa0-9c14c84fb71a"
      },
      "source": [
        "df_recency=df.groupby(by='Customer Name',as_index=False)['Order Date'].max()\n",
        "df_recency.columns=['CustomerName' , 'LastPurchaseDate' ]\n",
        "recent_date=df_recency['LastPurchaseDate'].max()\n",
        "print(recent_date)\n",
        "df_recency['Recency'] = df_recency['LastPurchaseDate'].apply(lambda x: (recent_date - x).days)\n",
        "df_recency.head()"
      ],
      "execution_count": null,
      "outputs": [
        {
          "output_type": "stream",
          "name": "stdout",
          "text": [
            "2015-12-31 00:00:00\n"
          ]
        },
        {
          "output_type": "execute_result",
          "data": {
            "text/html": [
              "<div>\n",
              "<style scoped>\n",
              "    .dataframe tbody tr th:only-of-type {\n",
              "        vertical-align: middle;\n",
              "    }\n",
              "\n",
              "    .dataframe tbody tr th {\n",
              "        vertical-align: top;\n",
              "    }\n",
              "\n",
              "    .dataframe thead th {\n",
              "        text-align: right;\n",
              "    }\n",
              "</style>\n",
              "<table border=\"1\" class=\"dataframe\">\n",
              "  <thead>\n",
              "    <tr style=\"text-align: right;\">\n",
              "      <th></th>\n",
              "      <th>CustomerName</th>\n",
              "      <th>LastPurchaseDate</th>\n",
              "      <th>Recency</th>\n",
              "    </tr>\n",
              "  </thead>\n",
              "  <tbody>\n",
              "    <tr>\n",
              "      <th>0</th>\n",
              "      <td>Aaron Bergman</td>\n",
              "      <td>2015-12-15</td>\n",
              "      <td>16</td>\n",
              "    </tr>\n",
              "    <tr>\n",
              "      <th>1</th>\n",
              "      <td>Aaron Hawkins</td>\n",
              "      <td>2015-12-19</td>\n",
              "      <td>12</td>\n",
              "    </tr>\n",
              "    <tr>\n",
              "      <th>2</th>\n",
              "      <td>Aaron Smayling</td>\n",
              "      <td>2015-12-08</td>\n",
              "      <td>23</td>\n",
              "    </tr>\n",
              "    <tr>\n",
              "      <th>3</th>\n",
              "      <td>Adam Bellavance</td>\n",
              "      <td>2015-11-26</td>\n",
              "      <td>35</td>\n",
              "    </tr>\n",
              "    <tr>\n",
              "      <th>4</th>\n",
              "      <td>Adam Hart</td>\n",
              "      <td>2015-12-29</td>\n",
              "      <td>2</td>\n",
              "    </tr>\n",
              "  </tbody>\n",
              "</table>\n",
              "</div>"
            ],
            "text/plain": [
              "      CustomerName LastPurchaseDate  Recency\n",
              "0    Aaron Bergman       2015-12-15       16\n",
              "1    Aaron Hawkins       2015-12-19       12\n",
              "2   Aaron Smayling       2015-12-08       23\n",
              "3  Adam Bellavance       2015-11-26       35\n",
              "4        Adam Hart       2015-12-29        2"
            ]
          },
          "metadata": {},
          "execution_count": 57
        }
      ]
    },
    {
      "cell_type": "code",
      "metadata": {
        "colab": {
          "base_uri": "https://localhost:8080/",
          "height": 205
        },
        "id": "CPLunlasyMsL",
        "outputId": "ef03ab4b-bde4-4aff-af55-4dddd9878063"
      },
      "source": [
        "frequency_df=df.drop_duplicates().groupby(by=['Customer Name'],as_index=False)['Order Date'].count()\n",
        "frequency_df.columns=['CustomerName','Frequency']\n",
        "frequency_df.head()"
      ],
      "execution_count": null,
      "outputs": [
        {
          "output_type": "execute_result",
          "data": {
            "text/html": [
              "<div>\n",
              "<style scoped>\n",
              "    .dataframe tbody tr th:only-of-type {\n",
              "        vertical-align: middle;\n",
              "    }\n",
              "\n",
              "    .dataframe tbody tr th {\n",
              "        vertical-align: top;\n",
              "    }\n",
              "\n",
              "    .dataframe thead th {\n",
              "        text-align: right;\n",
              "    }\n",
              "</style>\n",
              "<table border=\"1\" class=\"dataframe\">\n",
              "  <thead>\n",
              "    <tr style=\"text-align: right;\">\n",
              "      <th></th>\n",
              "      <th>CustomerName</th>\n",
              "      <th>Frequency</th>\n",
              "    </tr>\n",
              "  </thead>\n",
              "  <tbody>\n",
              "    <tr>\n",
              "      <th>0</th>\n",
              "      <td>Aaron Bergman</td>\n",
              "      <td>89</td>\n",
              "    </tr>\n",
              "    <tr>\n",
              "      <th>1</th>\n",
              "      <td>Aaron Hawkins</td>\n",
              "      <td>56</td>\n",
              "    </tr>\n",
              "    <tr>\n",
              "      <th>2</th>\n",
              "      <td>Aaron Smayling</td>\n",
              "      <td>60</td>\n",
              "    </tr>\n",
              "    <tr>\n",
              "      <th>3</th>\n",
              "      <td>Adam Bellavance</td>\n",
              "      <td>68</td>\n",
              "    </tr>\n",
              "    <tr>\n",
              "      <th>4</th>\n",
              "      <td>Adam Hart</td>\n",
              "      <td>84</td>\n",
              "    </tr>\n",
              "  </tbody>\n",
              "</table>\n",
              "</div>"
            ],
            "text/plain": [
              "      CustomerName  Frequency\n",
              "0    Aaron Bergman         89\n",
              "1    Aaron Hawkins         56\n",
              "2   Aaron Smayling         60\n",
              "3  Adam Bellavance         68\n",
              "4        Adam Hart         84"
            ]
          },
          "metadata": {},
          "execution_count": 58
        }
      ]
    },
    {
      "cell_type": "code",
      "metadata": {
        "colab": {
          "base_uri": "https://localhost:8080/",
          "height": 205
        },
        "id": "f01oK1NjyM0v",
        "outputId": "832950a5-273a-414d-bec4-e2bf00dea361"
      },
      "source": [
        "df['Total']=df['Sales']*df['Quantity']\n",
        "monetary_df=df.groupby(by='Customer Name',as_index=False)['Total'].sum()\n",
        "monetary_df.columns=['CustomerName','Monetary']\n",
        "monetary_df.head()"
      ],
      "execution_count": null,
      "outputs": [
        {
          "output_type": "execute_result",
          "data": {
            "text/html": [
              "<div>\n",
              "<style scoped>\n",
              "    .dataframe tbody tr th:only-of-type {\n",
              "        vertical-align: middle;\n",
              "    }\n",
              "\n",
              "    .dataframe tbody tr th {\n",
              "        vertical-align: top;\n",
              "    }\n",
              "\n",
              "    .dataframe thead th {\n",
              "        text-align: right;\n",
              "    }\n",
              "</style>\n",
              "<table border=\"1\" class=\"dataframe\">\n",
              "  <thead>\n",
              "    <tr style=\"text-align: right;\">\n",
              "      <th></th>\n",
              "      <th>CustomerName</th>\n",
              "      <th>Monetary</th>\n",
              "    </tr>\n",
              "  </thead>\n",
              "  <tbody>\n",
              "    <tr>\n",
              "      <th>0</th>\n",
              "      <td>Aaron Bergman</td>\n",
              "      <td>120359.56970</td>\n",
              "    </tr>\n",
              "    <tr>\n",
              "      <th>1</th>\n",
              "      <td>Aaron Hawkins</td>\n",
              "      <td>102027.89568</td>\n",
              "    </tr>\n",
              "    <tr>\n",
              "      <th>2</th>\n",
              "      <td>Aaron Smayling</td>\n",
              "      <td>64406.23580</td>\n",
              "    </tr>\n",
              "    <tr>\n",
              "      <th>3</th>\n",
              "      <td>Adam Bellavance</td>\n",
              "      <td>109573.00940</td>\n",
              "    </tr>\n",
              "    <tr>\n",
              "      <th>4</th>\n",
              "      <td>Adam Hart</td>\n",
              "      <td>91431.54582</td>\n",
              "    </tr>\n",
              "  </tbody>\n",
              "</table>\n",
              "</div>"
            ],
            "text/plain": [
              "      CustomerName      Monetary\n",
              "0    Aaron Bergman  120359.56970\n",
              "1    Aaron Hawkins  102027.89568\n",
              "2   Aaron Smayling   64406.23580\n",
              "3  Adam Bellavance  109573.00940\n",
              "4        Adam Hart   91431.54582"
            ]
          },
          "metadata": {},
          "execution_count": 59
        }
      ]
    },
    {
      "cell_type": "code",
      "metadata": {
        "colab": {
          "base_uri": "https://localhost:8080/",
          "height": 205
        },
        "id": "niiUrVw9yM8g",
        "outputId": "515f90df-082d-4952-bf62-535e1ec669c9"
      },
      "source": [
        "rf_df=df_recency.merge(frequency_df,on='CustomerName')\n",
        "rfm_df=rf_df.merge(monetary_df,on='CustomerName').drop(columns='LastPurchaseDate')\n",
        "rfm_df.head()"
      ],
      "execution_count": null,
      "outputs": [
        {
          "output_type": "execute_result",
          "data": {
            "text/html": [
              "<div>\n",
              "<style scoped>\n",
              "    .dataframe tbody tr th:only-of-type {\n",
              "        vertical-align: middle;\n",
              "    }\n",
              "\n",
              "    .dataframe tbody tr th {\n",
              "        vertical-align: top;\n",
              "    }\n",
              "\n",
              "    .dataframe thead th {\n",
              "        text-align: right;\n",
              "    }\n",
              "</style>\n",
              "<table border=\"1\" class=\"dataframe\">\n",
              "  <thead>\n",
              "    <tr style=\"text-align: right;\">\n",
              "      <th></th>\n",
              "      <th>CustomerName</th>\n",
              "      <th>Recency</th>\n",
              "      <th>Frequency</th>\n",
              "      <th>Monetary</th>\n",
              "    </tr>\n",
              "  </thead>\n",
              "  <tbody>\n",
              "    <tr>\n",
              "      <th>0</th>\n",
              "      <td>Aaron Bergman</td>\n",
              "      <td>16</td>\n",
              "      <td>89</td>\n",
              "      <td>120359.56970</td>\n",
              "    </tr>\n",
              "    <tr>\n",
              "      <th>1</th>\n",
              "      <td>Aaron Hawkins</td>\n",
              "      <td>12</td>\n",
              "      <td>56</td>\n",
              "      <td>102027.89568</td>\n",
              "    </tr>\n",
              "    <tr>\n",
              "      <th>2</th>\n",
              "      <td>Aaron Smayling</td>\n",
              "      <td>23</td>\n",
              "      <td>60</td>\n",
              "      <td>64406.23580</td>\n",
              "    </tr>\n",
              "    <tr>\n",
              "      <th>3</th>\n",
              "      <td>Adam Bellavance</td>\n",
              "      <td>35</td>\n",
              "      <td>68</td>\n",
              "      <td>109573.00940</td>\n",
              "    </tr>\n",
              "    <tr>\n",
              "      <th>4</th>\n",
              "      <td>Adam Hart</td>\n",
              "      <td>2</td>\n",
              "      <td>84</td>\n",
              "      <td>91431.54582</td>\n",
              "    </tr>\n",
              "  </tbody>\n",
              "</table>\n",
              "</div>"
            ],
            "text/plain": [
              "      CustomerName  Recency  Frequency      Monetary\n",
              "0    Aaron Bergman       16         89  120359.56970\n",
              "1    Aaron Hawkins       12         56  102027.89568\n",
              "2   Aaron Smayling       23         60   64406.23580\n",
              "3  Adam Bellavance       35         68  109573.00940\n",
              "4        Adam Hart        2         84   91431.54582"
            ]
          },
          "metadata": {},
          "execution_count": 60
        }
      ]
    },
    {
      "cell_type": "code",
      "metadata": {
        "colab": {
          "base_uri": "https://localhost:8080/",
          "height": 205
        },
        "id": "BTx-f2HdycnV",
        "outputId": "06cb5e37-e14b-4166-b930-7f331b16d180"
      },
      "source": [
        "rfm_df['R_rank'] = rfm_df['Recency'].rank( ascending=False)\n",
        "rfm_df['F_rank'] = rfm_df['Frequency'].rank(ascending=True)\n",
        "rfm_df['M_rank'] = rfm_df['Monetary'].rank(ascending=True)\n",
        "\n",
        "#normalizing the rank of the customers\n",
        "rfm_df['R_rank_norm']=(rfm_df['R_rank']/rfm_df['R_rank'].max())*100\n",
        "rfm_df['F_rank_norm']=(rfm_df['F_rank']/rfm_df['F_rank'].max())*100\n",
        "rfm_df['M_rank_norm']=(rfm_df['F_rank']/rfm_df['M_rank'].max())*100\n",
        "\n",
        "rfm_df.drop(columns=['R_rank','F_rank','M_rank'],inplace=True)\n",
        "\n",
        "rfm_df.head()"
      ],
      "execution_count": null,
      "outputs": [
        {
          "output_type": "execute_result",
          "data": {
            "text/html": [
              "<div>\n",
              "<style scoped>\n",
              "    .dataframe tbody tr th:only-of-type {\n",
              "        vertical-align: middle;\n",
              "    }\n",
              "\n",
              "    .dataframe tbody tr th {\n",
              "        vertical-align: top;\n",
              "    }\n",
              "\n",
              "    .dataframe thead th {\n",
              "        text-align: right;\n",
              "    }\n",
              "</style>\n",
              "<table border=\"1\" class=\"dataframe\">\n",
              "  <thead>\n",
              "    <tr style=\"text-align: right;\">\n",
              "      <th></th>\n",
              "      <th>CustomerName</th>\n",
              "      <th>Recency</th>\n",
              "      <th>Frequency</th>\n",
              "      <th>Monetary</th>\n",
              "      <th>R_rank_norm</th>\n",
              "      <th>F_rank_norm</th>\n",
              "      <th>M_rank_norm</th>\n",
              "    </tr>\n",
              "  </thead>\n",
              "  <tbody>\n",
              "    <tr>\n",
              "      <th>0</th>\n",
              "      <td>Aaron Bergman</td>\n",
              "      <td>16</td>\n",
              "      <td>89</td>\n",
              "      <td>120359.56970</td>\n",
              "      <td>50.994227</td>\n",
              "      <td>96.796482</td>\n",
              "      <td>96.796482</td>\n",
              "    </tr>\n",
              "    <tr>\n",
              "      <th>1</th>\n",
              "      <td>Aaron Hawkins</td>\n",
              "      <td>12</td>\n",
              "      <td>56</td>\n",
              "      <td>102027.89568</td>\n",
              "      <td>62.411802</td>\n",
              "      <td>27.826633</td>\n",
              "      <td>27.826633</td>\n",
              "    </tr>\n",
              "    <tr>\n",
              "      <th>2</th>\n",
              "      <td>Aaron Smayling</td>\n",
              "      <td>23</td>\n",
              "      <td>60</td>\n",
              "      <td>64406.23580</td>\n",
              "      <td>38.229634</td>\n",
              "      <td>38.693467</td>\n",
              "      <td>38.693467</td>\n",
              "    </tr>\n",
              "    <tr>\n",
              "      <th>3</th>\n",
              "      <td>Adam Bellavance</td>\n",
              "      <td>35</td>\n",
              "      <td>68</td>\n",
              "      <td>109573.00940</td>\n",
              "      <td>22.193714</td>\n",
              "      <td>62.185930</td>\n",
              "      <td>62.185930</td>\n",
              "    </tr>\n",
              "    <tr>\n",
              "      <th>4</th>\n",
              "      <td>Adam Hart</td>\n",
              "      <td>2</td>\n",
              "      <td>84</td>\n",
              "      <td>91431.54582</td>\n",
              "      <td>89.672867</td>\n",
              "      <td>92.273869</td>\n",
              "      <td>92.273869</td>\n",
              "    </tr>\n",
              "  </tbody>\n",
              "</table>\n",
              "</div>"
            ],
            "text/plain": [
              "      CustomerName  Recency  Frequency  ...  R_rank_norm  F_rank_norm  M_rank_norm\n",
              "0    Aaron Bergman       16         89  ...    50.994227    96.796482    96.796482\n",
              "1    Aaron Hawkins       12         56  ...    62.411802    27.826633    27.826633\n",
              "2   Aaron Smayling       23         60  ...    38.229634    38.693467    38.693467\n",
              "3  Adam Bellavance       35         68  ...    22.193714    62.185930    62.185930\n",
              "4        Adam Hart        2         84  ...    89.672867    92.273869    92.273869\n",
              "\n",
              "[5 rows x 7 columns]"
            ]
          },
          "metadata": {},
          "execution_count": 61
        }
      ]
    },
    {
      "cell_type": "code",
      "metadata": {
        "colab": {
          "base_uri": "https://localhost:8080/",
          "height": 268
        },
        "id": "sls1906oycrG",
        "outputId": "bf292e62-90ef-4aa5-9a5e-03aaeef15156"
      },
      "source": [
        "rfm_df['RFM_Score']=0.15*rfm_df['R_rank_norm']+0.28*rfm_df['F_rank_norm']+0.57*rfm_df['M_rank_norm']\n",
        "rfm_df['RFM_Score']*=0.05\n",
        "rfm_df=rfm_df.round(2)\n",
        "rfm_df[['CustomerName','RFM_Score']].head(7)"
      ],
      "execution_count": null,
      "outputs": [
        {
          "output_type": "execute_result",
          "data": {
            "text/html": [
              "<div>\n",
              "<style scoped>\n",
              "    .dataframe tbody tr th:only-of-type {\n",
              "        vertical-align: middle;\n",
              "    }\n",
              "\n",
              "    .dataframe tbody tr th {\n",
              "        vertical-align: top;\n",
              "    }\n",
              "\n",
              "    .dataframe thead th {\n",
              "        text-align: right;\n",
              "    }\n",
              "</style>\n",
              "<table border=\"1\" class=\"dataframe\">\n",
              "  <thead>\n",
              "    <tr style=\"text-align: right;\">\n",
              "      <th></th>\n",
              "      <th>CustomerName</th>\n",
              "      <th>RFM_Score</th>\n",
              "    </tr>\n",
              "  </thead>\n",
              "  <tbody>\n",
              "    <tr>\n",
              "      <th>0</th>\n",
              "      <td>Aaron Bergman</td>\n",
              "      <td>4.50</td>\n",
              "    </tr>\n",
              "    <tr>\n",
              "      <th>1</th>\n",
              "      <td>Aaron Hawkins</td>\n",
              "      <td>1.65</td>\n",
              "    </tr>\n",
              "    <tr>\n",
              "      <th>2</th>\n",
              "      <td>Aaron Smayling</td>\n",
              "      <td>1.93</td>\n",
              "    </tr>\n",
              "    <tr>\n",
              "      <th>3</th>\n",
              "      <td>Adam Bellavance</td>\n",
              "      <td>2.81</td>\n",
              "    </tr>\n",
              "    <tr>\n",
              "      <th>4</th>\n",
              "      <td>Adam Hart</td>\n",
              "      <td>4.59</td>\n",
              "    </tr>\n",
              "    <tr>\n",
              "      <th>5</th>\n",
              "      <td>Adam Shillingsburg</td>\n",
              "      <td>3.36</td>\n",
              "    </tr>\n",
              "    <tr>\n",
              "      <th>6</th>\n",
              "      <td>Adrian Barton</td>\n",
              "      <td>3.72</td>\n",
              "    </tr>\n",
              "  </tbody>\n",
              "</table>\n",
              "</div>"
            ],
            "text/plain": [
              "         CustomerName  RFM_Score\n",
              "0       Aaron Bergman       4.50\n",
              "1       Aaron Hawkins       1.65\n",
              "2      Aaron Smayling       1.93\n",
              "3     Adam Bellavance       2.81\n",
              "4           Adam Hart       4.59\n",
              "5  Adam Shillingsburg       3.36\n",
              "6       Adrian Barton       3.72"
            ]
          },
          "metadata": {},
          "execution_count": 62
        }
      ]
    },
    {
      "cell_type": "code",
      "metadata": {
        "colab": {
          "base_uri": "https://localhost:8080/",
          "height": 675
        },
        "id": "sqXkkbVPyNt_",
        "outputId": "fbaab8f6-e09c-4756-c771-26aa058ad1db"
      },
      "source": [
        "rfm_df[\"Customer_segment\"]=np.where(rfm_df['RFM_Score'] > 4.5 ,\"Top Customers\",(np.where(rfm_df['RFM_Score'] >4 , \"High value Customer\" ,(np.where(rfm_df['RFM_Score']>3,\"Medium Value Customer\",np.where(rfm_df['RFM_Score']>1.6,'Low Value Customers','Lost Customers'))))))\n",
        "rfm_df[['CustomerName','RFM_Score','Customer_segment']].head(20)"
      ],
      "execution_count": null,
      "outputs": [
        {
          "output_type": "execute_result",
          "data": {
            "text/html": [
              "<div>\n",
              "<style scoped>\n",
              "    .dataframe tbody tr th:only-of-type {\n",
              "        vertical-align: middle;\n",
              "    }\n",
              "\n",
              "    .dataframe tbody tr th {\n",
              "        vertical-align: top;\n",
              "    }\n",
              "\n",
              "    .dataframe thead th {\n",
              "        text-align: right;\n",
              "    }\n",
              "</style>\n",
              "<table border=\"1\" class=\"dataframe\">\n",
              "  <thead>\n",
              "    <tr style=\"text-align: right;\">\n",
              "      <th></th>\n",
              "      <th>CustomerName</th>\n",
              "      <th>RFM_Score</th>\n",
              "      <th>Customer_segment</th>\n",
              "    </tr>\n",
              "  </thead>\n",
              "  <tbody>\n",
              "    <tr>\n",
              "      <th>0</th>\n",
              "      <td>Aaron Bergman</td>\n",
              "      <td>4.50</td>\n",
              "      <td>High value Customer</td>\n",
              "    </tr>\n",
              "    <tr>\n",
              "      <th>1</th>\n",
              "      <td>Aaron Hawkins</td>\n",
              "      <td>1.65</td>\n",
              "      <td>Low Value Customers</td>\n",
              "    </tr>\n",
              "    <tr>\n",
              "      <th>2</th>\n",
              "      <td>Aaron Smayling</td>\n",
              "      <td>1.93</td>\n",
              "      <td>Low Value Customers</td>\n",
              "    </tr>\n",
              "    <tr>\n",
              "      <th>3</th>\n",
              "      <td>Adam Bellavance</td>\n",
              "      <td>2.81</td>\n",
              "      <td>Low Value Customers</td>\n",
              "    </tr>\n",
              "    <tr>\n",
              "      <th>4</th>\n",
              "      <td>Adam Hart</td>\n",
              "      <td>4.59</td>\n",
              "      <td>Top Customers</td>\n",
              "    </tr>\n",
              "    <tr>\n",
              "      <th>5</th>\n",
              "      <td>Adam Shillingsburg</td>\n",
              "      <td>3.36</td>\n",
              "      <td>Medium Value Customer</td>\n",
              "    </tr>\n",
              "    <tr>\n",
              "      <th>6</th>\n",
              "      <td>Adrian Barton</td>\n",
              "      <td>3.72</td>\n",
              "      <td>Medium Value Customer</td>\n",
              "    </tr>\n",
              "    <tr>\n",
              "      <th>7</th>\n",
              "      <td>Adrian Hane</td>\n",
              "      <td>1.25</td>\n",
              "      <td>Lost Customers</td>\n",
              "    </tr>\n",
              "    <tr>\n",
              "      <th>8</th>\n",
              "      <td>Adrian Shami</td>\n",
              "      <td>0.39</td>\n",
              "      <td>Lost Customers</td>\n",
              "    </tr>\n",
              "    <tr>\n",
              "      <th>9</th>\n",
              "      <td>Aimee Bixby</td>\n",
              "      <td>1.21</td>\n",
              "      <td>Lost Customers</td>\n",
              "    </tr>\n",
              "    <tr>\n",
              "      <th>10</th>\n",
              "      <td>Alan Barnes</td>\n",
              "      <td>2.09</td>\n",
              "      <td>Low Value Customers</td>\n",
              "    </tr>\n",
              "    <tr>\n",
              "      <th>11</th>\n",
              "      <td>Alan Dominguez</td>\n",
              "      <td>1.66</td>\n",
              "      <td>Low Value Customers</td>\n",
              "    </tr>\n",
              "    <tr>\n",
              "      <th>12</th>\n",
              "      <td>Alan Haines</td>\n",
              "      <td>3.56</td>\n",
              "      <td>Medium Value Customer</td>\n",
              "    </tr>\n",
              "    <tr>\n",
              "      <th>13</th>\n",
              "      <td>Alan Hwang</td>\n",
              "      <td>3.78</td>\n",
              "      <td>Medium Value Customer</td>\n",
              "    </tr>\n",
              "    <tr>\n",
              "      <th>14</th>\n",
              "      <td>Alan Schoenberger</td>\n",
              "      <td>3.79</td>\n",
              "      <td>Medium Value Customer</td>\n",
              "    </tr>\n",
              "    <tr>\n",
              "      <th>15</th>\n",
              "      <td>Alan Shonely</td>\n",
              "      <td>2.47</td>\n",
              "      <td>Low Value Customers</td>\n",
              "    </tr>\n",
              "    <tr>\n",
              "      <th>16</th>\n",
              "      <td>Alejandro Ballentine</td>\n",
              "      <td>3.26</td>\n",
              "      <td>Medium Value Customer</td>\n",
              "    </tr>\n",
              "    <tr>\n",
              "      <th>17</th>\n",
              "      <td>Alejandro Grove</td>\n",
              "      <td>2.94</td>\n",
              "      <td>Low Value Customers</td>\n",
              "    </tr>\n",
              "    <tr>\n",
              "      <th>18</th>\n",
              "      <td>Alejandro Savely</td>\n",
              "      <td>3.84</td>\n",
              "      <td>Medium Value Customer</td>\n",
              "    </tr>\n",
              "    <tr>\n",
              "      <th>19</th>\n",
              "      <td>Aleksandra Gannaway</td>\n",
              "      <td>2.10</td>\n",
              "      <td>Low Value Customers</td>\n",
              "    </tr>\n",
              "  </tbody>\n",
              "</table>\n",
              "</div>"
            ],
            "text/plain": [
              "            CustomerName  RFM_Score       Customer_segment\n",
              "0          Aaron Bergman       4.50    High value Customer\n",
              "1          Aaron Hawkins       1.65    Low Value Customers\n",
              "2         Aaron Smayling       1.93    Low Value Customers\n",
              "3        Adam Bellavance       2.81    Low Value Customers\n",
              "4              Adam Hart       4.59          Top Customers\n",
              "5     Adam Shillingsburg       3.36  Medium Value Customer\n",
              "6          Adrian Barton       3.72  Medium Value Customer\n",
              "7            Adrian Hane       1.25         Lost Customers\n",
              "8           Adrian Shami       0.39         Lost Customers\n",
              "9            Aimee Bixby       1.21         Lost Customers\n",
              "10           Alan Barnes       2.09    Low Value Customers\n",
              "11        Alan Dominguez       1.66    Low Value Customers\n",
              "12           Alan Haines       3.56  Medium Value Customer\n",
              "13            Alan Hwang       3.78  Medium Value Customer\n",
              "14     Alan Schoenberger       3.79  Medium Value Customer\n",
              "15          Alan Shonely       2.47    Low Value Customers\n",
              "16  Alejandro Ballentine       3.26  Medium Value Customer\n",
              "17       Alejandro Grove       2.94    Low Value Customers\n",
              "18      Alejandro Savely       3.84  Medium Value Customer\n",
              "19   Aleksandra Gannaway       2.10    Low Value Customers"
            ]
          },
          "metadata": {},
          "execution_count": 63
        }
      ]
    },
    {
      "cell_type": "code",
      "metadata": {
        "colab": {
          "base_uri": "https://localhost:8080/",
          "height": 248
        },
        "id": "WUGhTYCryrN-",
        "outputId": "5d44e903-f4a0-4cae-ac1d-f4ac99f91273"
      },
      "source": [
        "plt.pie(rfm_df.Customer_segment.value_counts(),labels=rfm_df.Customer_segment.value_counts().index,autopct='%.0f%%')\n",
        "plt.show()"
      ],
      "execution_count": null,
      "outputs": [
        {
          "output_type": "display_data",
          "data": {
            "image/png": "[encoded data removed]",
            "text/plain": [
              "<Figure size 432x288 with 1 Axes>"
            ]
          },
          "metadata": {}
        }
      ]
    }
  ]
}